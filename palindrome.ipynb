#Code starts here
def palindrome(num):
    num=str(num)
    while(num!=num[::-1]):
        num=str(int(num)+1)
        
    print(num)
#Code ends here      
palindrome(123)